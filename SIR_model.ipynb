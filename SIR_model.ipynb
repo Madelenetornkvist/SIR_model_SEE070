{
 "cells": [
  {
   "cell_type": "code",
   "execution_count": 23,
   "metadata": {},
   "outputs": [],
   "source": [
    "# Hello!!"
   ]
  },
  {
   "cell_type": "code",
   "execution_count": 24,
   "metadata": {},
   "outputs": [],
   "source": [
    "from scipy.integrate import odeint\n",
    "import numpy as np\n",
    "import matplotlib.pyplot as plt\n"
   ]
  },
  {
   "cell_type": "markdown",
   "metadata": {},
   "source": [
    "# Let’s run the basic SIR model"
   ]
  },
  {
   "cell_type": "code",
   "execution_count": 25,
   "metadata": {},
   "outputs": [],
   "source": [
    "# describe the model\n",
    "def deriv(y, t, N, beta, k, delta):\n",
    "    S, E, I, R = y\n",
    "    dSdt = -beta * S * I / N\n",
    "    dEdt = beta * S * I / N - k * E\n",
    "    dIdt = delta * E * k * I\n",
    "    dRdt = k * I\n",
    "    return dSdt, dEdt, dIdt, dRdt"
   ]
  },
  {
   "cell_type": "code",
   "execution_count": 26,
   "metadata": {},
   "outputs": [],
   "source": [
    "# describe the parameters\n",
    "N = 1000 # population\n",
    "beta = 2.5            \n",
    "k=1/7 \n",
    "delta = 1.0/5.0\n",
    "S0, E0, I0, R0 = N-1, 1, 0, 0  # initial conditions: one infected, rest susceptible"
   ]
  },
  {
   "cell_type": "code",
   "execution_count": 27,
   "metadata": {},
   "outputs": [],
   "source": [
    "t = np.linspace(0, 99, 100) # Grid of time points (in days)\n",
    "y0 = S0, E0, I0, R0 # Initial conditions vector\n",
    "\n",
    "# Integrate the SIR equations over the time grid, t.\n",
    "ret = odeint(deriv, y0, t, args=(N, beta, k, delta))\n",
    "S, E, I, R = ret.T"
   ]
  },
  {
   "cell_type": "code",
   "execution_count": 28,
   "metadata": {},
   "outputs": [],
   "source": [
    "def plotsir(t, S, E, I, R):\n",
    "  f, ax = plt.subplots(1,1,figsize=(10,4))\n",
    "  ax.plot(t, S, 'b', alpha=0.7, linewidth=2, label='Susceptible')\n",
    "  ax.plot(t, E, 'y', alpha=0.7, linewidth=2, label='Exposed')\n",
    "  ax.plot(t, I, 'r', alpha=0.7, linewidth=2, label='Infected')\n",
    "  ax.plot(t, R, 'g', alpha=0.7, linewidth=2, label='Recovered')\n",
    "\n",
    "  ax.set_xlabel('Time (days)')\n",
    "\n",
    "  ax.yaxis.set_tick_params(length=0)\n",
    "  ax.xaxis.set_tick_params(length=0)\n",
    "  ax.grid(b=True, which='major', c='w', lw=2, ls='-')\n",
    "  legend = ax.legend()\n",
    "  legend.get_frame().set_alpha(0.5)\n",
    "  for spine in ('top', 'right', 'bottom', 'left'):\n",
    "      ax.spines[spine].set_visible(False)\n",
    "  plt.show();"
   ]
  },
  {
   "cell_type": "markdown",
   "metadata": {},
   "source": [
    "plot the graph"
   ]
  },
  {
   "cell_type": "code",
   "execution_count": 29,
   "metadata": {},
   "outputs": [
    {
     "data": {
      "image/png": "[encoded data removed]",
      "text/plain": [
       "<Figure size 720x288 with 1 Axes>"
      ]
     },
     "metadata": {
      "needs_background": "light"
     },
     "output_type": "display_data"
    }
   ],
   "source": [
    "\n",
    "plotsir(t, S, E, I, R)"
   ]
  },
  {
   "cell_type": "code",
   "execution_count": null,
   "metadata": {},
   "outputs": [],
   "source": []
  }
 ],
 "metadata": {
  "kernelspec": {
   "display_name": "Python 3",
   "language": "python",
   "name": "python3"
  },
  "language_info": {
   "codemirror_mode": {
    "name": "ipython",
    "version": 3
   },
   "file_extension": ".py",
   "mimetype": "text/x-python",
   "name": "python",
   "nbconvert_exporter": "python",
   "pygments_lexer": "ipython3",
   "version": "3.8.3"
  },
  "varInspector": {
   "cols": {
    "lenName": 16,
    "lenType": 16,
    "lenVar": 40
   },
   "kernels_config": {
    "python": {
     "delete_cmd_postfix": "",
     "delete_cmd_prefix": "del ",
     "library": "var_list.py",
     "varRefreshCmd": "print(var_dic_list())"
    },
    "r": {
     "delete_cmd_postfix": ") ",
     "delete_cmd_prefix": "rm(",
     "library": "var_list.r",
     "varRefreshCmd": "cat(var_dic_list()) "
    }
   },
   "types_to_exclude": [
    "module",
    "function",
    "builtin_function_or_method",
    "instance",
    "_Feature"
   ],
   "window_display": false
  }
 },
 "nbformat": 4,
 "nbformat_minor": 4
}
